{
 "cells": [
  {
   "cell_type": "code",
   "execution_count": 1,
   "metadata": {},
   "outputs": [],
   "source": [
    "import h5py\n",
    "import numpy as np"
   ]
  },
  {
   "cell_type": "code",
   "execution_count": 2,
   "metadata": {},
   "outputs": [],
   "source": [
    "from dynamics import explicitCorrectionFactorStokesForce, explicitCorrectionFactorTorque, shapeFactor, translationalResistanceCoefficients, resistanceCoefficient\n",
    "\n",
    "def hopfBifurcation(beta, curly_R, curly_V):\n",
    "    A_perp, A_para = translationalResistanceCoefficients(beta)\n",
    "    gamma = np.log(beta + np.sqrt(beta ** 2 - 1 + 0j)) / (beta * np.sqrt(beta ** 2 - 1 + 0j))\n",
    "    gamma = np.real(gamma)\n",
    "    C_perp = + 8 * beta * (beta ** 4 - 1) \\\n",
    "        / (9 * beta ** 2 * ((2 * beta ** 2 - 1) * gamma - 1))\n",
    "    C_para = - 8 * beta * (beta ** 2 - 1) \\\n",
    "        / (9 * (gamma - 1) * beta ** 2)\n",
    "    F_lambda = shapeFactor(beta)\n",
    "    A_g = resistanceCoefficient(beta, A_perp, A_para)\n",
    "\n",
    "    Re_p0 = curly_R * curly_V / (6 * np.pi)\n",
    "    C_F = explicitCorrectionFactorStokesForce(Re_p0=Re_p0, beta=beta)\n",
    "    Re_p = max(1, beta) * 4 / (3 * A_g) * (np.sqrt(1 + (3 / 2) * Re_p0 * C_F) - 1) / C_F\n",
    "    C_T = explicitCorrectionFactorTorque(Re_p, beta, F_lambda)\n",
    "\n",
    "\n",
    "    curly_A_F = C_F * curly_R * curly_V / (32 * np.pi)\n",
    "    curly_A_T = C_T * beta * curly_R ** 3 * curly_V ** 2 * F_lambda * max(1, beta) ** 3 / (972 * np.pi)\n",
    "    v_g = (np.sqrt(1 + 8 * curly_A_F) - 1) / (4 * A_perp * curly_A_F)\n",
    "\n",
    "    return (\n",
    "        A_para*C_perp*beta*(1+3*A_para*curly_A_F*v_g-A_perp*curly_A_F*v_g)\n",
    "        *(5*C_perp*beta+3*A_para**2*curly_A_F*(1+beta**2)*v_g-A_para*(1+beta**2)*(-1+A_perp*curly_A_F*v_g))\n",
    "    ) / (v_g**2*(\n",
    "        10*C_perp*beta-A_perp*(1+beta**2)\n",
    "        +6*A_para**2*curly_A_F*(1+beta**2)*v_g\n",
    "        -2*A_perp**2*curly_A_F*(1+beta**2)*v_g\n",
    "        -2*A_para*(1+beta**2)*(-1+A_perp*curly_A_F*v_g)\n",
    "    )) - curly_A_T\n"
   ]
  },
  {
   "cell_type": "code",
   "execution_count": null,
   "metadata": {},
   "outputs": [],
   "source": [
    "from scipy.optimize import root_scalar\n",
    "curly_R = 1.2e3 / 1.204\n",
    "with h5py.File(\"parameter_scan_001.h5\") as f:\n",
    "    betas = f['betas'][:]\n",
    "curly_Vs = []\n",
    "for beta in betas:\n",
    "    curly_Vs.append(root_scalar(\n",
    "        lambda x: hopfBifurcation(beta, curly_R, x),\n",
    "        x0=9.81 * 1e-9 / 1.51147e-5 ** 2\n",
    "    ).root)\n",
    "curly_Vs = np.array(curly_Vs)"
   ]
  },
  {
   "cell_type": "code",
   "execution_count": null,
   "metadata": {},
   "outputs": [],
   "source": [
    "import matplotlib.pyplot as plt\n",
    "volumes = np.zeros(21)\n",
    "with h5py.File(\"parameter_scan_001.h5\") as f:\n",
    "    for i in range(21):\n",
    "        volumes[i] = f[f'{i}/particle_volume'][()]\n",
    "    betas = f['betas'][:]\n",
    "# TODO(Nils); Implement theoretical formula. Calculate shape numerically\n",
    "# - try to classify the hopf bifurcation\n",
    "plt.plot(betas[:21], volumes * 1e9, marker=\"o\")\n",
    "plt.plot(betas[:21], 1.51147e-5 ** 2 * curly_Vs[:21] / 9.81 * 1e13)\n",
    "plt.xlabel(\"Aspect ratio $\\\\lambda$\")\n",
    "plt.ylabel(\"Particle volume (mm$^3$)\")\n",
    "plt.show()"
   ]
  }
 ],
 "metadata": {
  "kernelspec": {
   "display_name": "spheriods",
   "language": "python",
   "name": "python3"
  },
  "language_info": {
   "codemirror_mode": {
    "name": "ipython",
    "version": 3
   },
   "file_extension": ".py",
   "mimetype": "text/x-python",
   "name": "python",
   "nbconvert_exporter": "python",
   "pygments_lexer": "ipython3",
   "version": "3.12.4"
  }
 },
 "nbformat": 4,
 "nbformat_minor": 2
}
