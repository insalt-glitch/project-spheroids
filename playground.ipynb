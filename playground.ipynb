{
 "cells": [
  {
   "cell_type": "code",
   "execution_count": null,
   "metadata": {},
   "outputs": [],
   "source": [
    "import h5py\n",
    "import numpy as np"
   ]
  },
  {
   "cell_type": "code",
   "execution_count": null,
   "metadata": {},
   "outputs": [],
   "source": [
    "%load_ext autoreload\n",
    "%autoreload 2\n",
    "import dynamics\n",
    "import c_dynamics\n",
    "import numpy as np\n",
    "import matplotlib.pyplot as plt"
   ]
  },
  {
   "cell_type": "code",
   "execution_count": null,
   "metadata": {},
   "outputs": [],
   "source": [
    "a_parallel=2.4e-05\n",
    "a_perp=0.00012\n",
    "g=9.82\n",
    "nu=1.5115e-05\n",
    "curlyR=996\n",
    "const = dynamics.SystemConstants(\n",
    "    gravitational_acceleration=g,\n",
    "    fluid_kinematic_viscosity=nu,\n",
    "    a_perp=a_perp,\n",
    "    a_para=a_parallel,\n",
    ")\n",
    "\n",
    "mat_data = np.loadtxt(\"traj_apara2.4e-05_aperp0.00012_lambda0.2_g9.82_nu1.5115e-05_curlyR996_taup0.042174_CF0.49114_CT0.73226.txt\")\n",
    "t_mat = mat_data[:,0]\n",
    "res_mat = mat_data[:,1:]\n",
    "initial = res_mat[0]\n",
    "print(res_mat.shape)\n",
    "print(f\"beta: {const.beta}\")\n",
    "x0     = initial[0:3] * np.sqrt(const.tau_p * const.nu) / (g * const.tau_p ** 2)\n",
    "v0     = initial[3:6] * np.sqrt(const.tau_p * const.nu) / (g * const.tau_p ** 2)\n",
    "n0     = initial[6:9]\n",
    "omega0 = initial[9:12]\n",
    "y0 = np.concat([x0, v0, n0, omega0])\n",
    "t_end = t_mat[-1]\n",
    "t = np.linspace(0.0, t_end, num=1000)\n",
    "\n",
    "t_py, res_py = c_dynamics.solveDynamics(\n",
    "    y0=y0,\n",
    "    const=const,\n",
    "    t_eval=t,\n",
    "    t_span=(0.0, t_end),\n",
    "    rel_tol=1e-12,\n",
    "    abs_tol=1e-12,\n",
    "    event_type=0\n",
    ")\n",
    "res_py[:,:3] *= (np.linalg.norm(const.g) * const.tau_p ** 2) / np.sqrt(const.tau_p * const.nu)\n",
    "res_py[:,3:6] *= (np.linalg.norm(const.g) * const.tau_p ** 2) / np.sqrt(const.tau_p * const.nu)\n",
    "res_compatible = np.vstack([np.interp(t_mat, t, res_py[:,i]) for i in range(12)]).T\n",
    "plt.plot(t_py, res_py[:,3+0], label=\"python x\", color=\"black\", ls=\"solid\", lw=2)\n",
    "plt.plot(t_py, res_py[:,3+1], label=\"python y\", color=\"blue\", ls=\"solid\", lw=2)\n",
    "plt.plot(t_py, res_py[:,3+2], label=\"python z\", color=\"grey\", ls=\"solid\", lw=2)\n",
    "plt.plot(t_mat, res_mat[:,3+0], label=\"matlab x\", ls=\":\", color=\"orange\", lw=1.5)\n",
    "plt.plot(t_mat, res_mat[:,3+1], label=\"matlab y\", ls=\":\", color=\"red\", lw=1.5)\n",
    "plt.plot(t_mat, res_mat[:,3+2], label=\"matlab z\", ls=\":\", color=\"green\", lw=1.5)\n",
    "plt.legend()\n",
    "plt.ylim(-1, 2.0)\n",
    "plt.show()"
   ]
  },
  {
   "cell_type": "code",
   "execution_count": null,
   "metadata": {},
   "outputs": [],
   "source": [
    "from dynamics import explicitCorrectionFactorStokesForce, explicitCorrectionFactorTorque, shapeFactor, translationalResistanceCoefficients, resistanceCoefficient\n",
    "\n",
    "def hopfBifurcation(beta, curly_R, curly_V):\n",
    "    A_perp, A_para = translationalResistanceCoefficients(beta)\n",
    "    gamma = np.log(beta + np.sqrt(beta ** 2 - 1 + 0j)) / (beta * np.sqrt(beta ** 2 - 1 + 0j))\n",
    "    gamma = np.real(gamma)\n",
    "    C_perp = + 8 * beta * (beta ** 4 - 1) \\\n",
    "        / (9 * beta ** 2 * ((2 * beta ** 2 - 1) * gamma - 1))\n",
    "    C_para = - 8 * beta * (beta ** 2 - 1) \\\n",
    "        / (9 * (gamma - 1) * beta ** 2)\n",
    "    F_lambda = shapeFactor(beta)\n",
    "    A_g = resistanceCoefficient(beta, A_perp, A_para)\n",
    "\n",
    "    Re_p0 = curly_R * curly_V / (6 * np.pi)\n",
    "    C_F = explicitCorrectionFactorStokesForce(Re_p0=Re_p0, beta=beta)\n",
    "    Re_p = max(1, beta) * 4 / (3 * A_g) * (np.sqrt(1 + (3 / 2) * Re_p0 * C_F) - 1) / C_F\n",
    "    C_T = explicitCorrectionFactorTorque(Re_p, beta, F_lambda)\n",
    "\n",
    "\n",
    "    curly_A_F = C_F * curly_R * curly_V / (32 * np.pi)\n",
    "    curly_A_T = C_T * beta * curly_R ** 3 * curly_V ** 2 * F_lambda * max(1, beta) ** 3 / (972 * np.pi)\n",
    "    v_g = (np.sqrt(1 + 8 * curly_A_F) - 1) / (4 * A_perp * curly_A_F)\n",
    "\n",
    "    return (\n",
    "        A_para*C_perp*beta*(1+3*A_para*curly_A_F*v_g-A_perp*curly_A_F*v_g)\n",
    "        *(5*C_perp*beta+3*A_para**2*curly_A_F*(1+beta**2)*v_g-A_para*(1+beta**2)*(-1+A_perp*curly_A_F*v_g))\n",
    "    ) / (v_g**2*(\n",
    "        10*C_perp*beta-A_perp*(1+beta**2)\n",
    "        +6*A_para**2*curly_A_F*(1+beta**2)*v_g\n",
    "        -2*A_perp**2*curly_A_F*(1+beta**2)*v_g\n",
    "        -2*A_para*(1+beta**2)*(-1+A_perp*curly_A_F*v_g)\n",
    "    )) - curly_A_T\n"
   ]
  },
  {
   "cell_type": "code",
   "execution_count": null,
   "metadata": {},
   "outputs": [],
   "source": [
    "from scipy.optimize import root_scalar\n",
    "curly_R = 1.2e3 / 1.204\n",
    "with h5py.File(\"parameter_scan_001.h5\") as f:\n",
    "    betas = f['betas'][:]\n",
    "curly_Vs = []\n",
    "for beta in betas:\n",
    "    curly_Vs.append(root_scalar(\n",
    "        lambda x: hopfBifurcation(beta, curly_R, x),\n",
    "        x0=9.81 * 1e-9 / 1.51147e-5 ** 2\n",
    "    ).root)\n",
    "curly_Vs = np.array(curly_Vs)"
   ]
  },
  {
   "cell_type": "code",
   "execution_count": null,
   "metadata": {},
   "outputs": [],
   "source": [
    "import matplotlib.pyplot as plt\n",
    "volumes = np.zeros(21)\n",
    "with h5py.File(\"parameter_scan_001.h5\") as f:\n",
    "    for i in range(21):\n",
    "        volumes[i] = f[f'{i}/particle_volume'][()]\n",
    "    betas = f['betas'][:]\n",
    "# TODO(Nils); Implement theoretical formula. Calculate shape numerically\n",
    "# - try to classify the hopf bifurcation\n",
    "plt.plot(betas[:21], volumes * 1e9, marker=\"o\")\n",
    "plt.plot(betas[:21], 1.51147e-5 ** 2 * curly_Vs[:21] / 9.81 * 1e13)\n",
    "plt.xlabel(\"Aspect ratio $\\\\lambda$\")\n",
    "plt.ylabel(\"Particle volume (mm$^3$)\")\n",
    "plt.show()"
   ]
  }
 ],
 "metadata": {
  "kernelspec": {
   "display_name": "spheriods",
   "language": "python",
   "name": "python3"
  },
  "language_info": {
   "codemirror_mode": {
    "name": "ipython",
    "version": 3
   },
   "file_extension": ".py",
   "mimetype": "text/x-python",
   "name": "python",
   "nbconvert_exporter": "python",
   "pygments_lexer": "ipython3",
   "version": "3.12.9"
  }
 },
 "nbformat": 4,
 "nbformat_minor": 2
}
