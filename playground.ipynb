{
 "cells": [
  {
   "cell_type": "code",
   "execution_count": null,
   "metadata": {},
   "outputs": [],
   "source": [
    "%load_ext autoreload\n",
    "%autoreload 2\n",
    "import dynamics\n",
    "import c_dynamics\n",
    "import numpy as np\n",
    "import matplotlib.pyplot as plt\n",
    "import main\n",
    "from scipy import optimize"
   ]
  },
  {
   "cell_type": "code",
   "execution_count": null,
   "metadata": {},
   "outputs": [],
   "source": [
    "main.plotCoefficientsVsReynoldsNumber()"
   ]
  },
  {
   "cell_type": "code",
   "execution_count": null,
   "metadata": {},
   "outputs": [],
   "source": [
    "main.plotCorrectionCoefficients()"
   ]
  },
  {
   "cell_type": "code",
   "execution_count": null,
   "metadata": {},
   "outputs": [],
   "source": [
    "main.plotSettlingSpeedVsAspectRatio()"
   ]
  },
  {
   "cell_type": "markdown",
   "metadata": {},
   "source": [
    "# Matlab comparison"
   ]
  },
  {
   "cell_type": "code",
   "execution_count": null,
   "metadata": {},
   "outputs": [],
   "source": [
    "a_parallel=2.4e-05\n",
    "a_perp=0.00012\n",
    "g=9.82\n",
    "nu=1.5115e-05\n",
    "const = dynamics.SystemConstants(\n",
    "    gravitational_acceleration=g,\n",
    "    fluid_kinematic_viscosity=nu,\n",
    "    a_perp=a_perp,\n",
    "    a_para=a_parallel,\n",
    ")\n",
    "\n",
    "mat_data = np.loadtxt(\"traj_apara2.4e-05_aperp0.00012_lambda0.2_g9.82_nu1.5115e-05_curlyR996_taup0.042174_CF0.49114_CT0.73226.txt\")\n",
    "t_mat = mat_data[:,0]\n",
    "res_mat = mat_data[:,1:]\n",
    "initial = res_mat[0]\n",
    "print(res_mat.shape)\n",
    "print(f\"beta: {const.beta}\")\n",
    "x0     = initial[0:3] * np.sqrt(const.tau_p * const.nu) / (g * const.tau_p ** 2)\n",
    "v0     = initial[3:6] * np.sqrt(const.tau_p * const.nu) / (g * const.tau_p ** 2)\n",
    "n0     = initial[6:9]\n",
    "omega0 = initial[9:12]\n",
    "y0 = np.concat([x0, v0, n0, omega0])\n",
    "t_end = t_mat[-1]\n",
    "t = np.linspace(0.0, t_end, num=1000)\n",
    "\n",
    "t_py, res_py = c_dynamics.solveDynamics(\n",
    "    y0=y0,\n",
    "    const=const,\n",
    "    t_eval=t,\n",
    "    t_span=(0.0, t_end),\n",
    "    rel_tol=1e-12,\n",
    "    abs_tol=1e-12,\n",
    "    event_type=0\n",
    ")\n",
    "res_py[:,:3] *= (np.linalg.norm(const.g) * const.tau_p ** 2) / np.sqrt(const.tau_p * const.nu)\n",
    "res_py[:,3:6] *= (np.linalg.norm(const.g) * const.tau_p ** 2) / np.sqrt(const.tau_p * const.nu)\n",
    "res_compatible = np.vstack([np.interp(t_mat, t, res_py[:,i]) for i in range(12)]).T\n",
    "plt.plot(t_py, res_py[:,6+0], label=\"python x\", color=\"black\", ls=\"solid\", lw=2)\n",
    "plt.plot(t_py, res_py[:,6+1], label=\"python y\", color=\"blue\", ls=\"solid\", lw=2)\n",
    "plt.plot(t_py, res_py[:,6+2], label=\"python z\", color=\"grey\", ls=\"solid\", lw=2)\n",
    "plt.plot(t_mat, res_mat[:,6+0], label=\"matlab x\", ls=\":\", color=\"orange\", lw=1.5)\n",
    "plt.plot(t_mat, res_mat[:,6+1], label=\"matlab y\", ls=\":\", color=\"red\", lw=1.5)\n",
    "plt.plot(t_mat, res_mat[:,6+2], label=\"matlab z\", ls=\":\", color=\"green\", lw=1.5)\n",
    "plt.legend()\n",
    "# plt.ylim(-1, 2.0)\n",
    "plt.xlabel(\"Time (1)\")\n",
    "plt.ylabel(\"Velocity (1)\")\n",
    "plt.show()"
   ]
  },
  {
   "cell_type": "markdown",
   "metadata": {},
   "source": [
    "# Analytical bifurcation"
   ]
  },
  {
   "cell_type": "code",
   "execution_count": null,
   "metadata": {},
   "outputs": [],
   "source": [
    "from dynamics import (\n",
    "    shapeFactor,\n",
    "    resistanceCoefficient,\n",
    "    translationalResistanceCoefficients,\n",
    "    rotationalResistanceCoefficients,\n",
    "    computeCurlyAStokesForce,\n",
    "    computeCurlyATorque\n",
    ")\n",
    "\n",
    "def hopfBifurcation(beta, curly_R, curly_V):\n",
    "    A_perp, A_para = translationalResistanceCoefficients(beta)\n",
    "    C_perp, C_para = rotationalResistanceCoefficients(beta)\n",
    "    F_lambda = shapeFactor(beta)\n",
    "    A_g = resistanceCoefficient(beta)\n",
    "    c_config = c_dynamics.CppConfig(dynamics.SystemConstants(a_para=beta, a_perp=1.0))\n",
    "\n",
    "    Re_p0 = max(1, beta) * curly_R * curly_V / (6 * np.pi * A_g)\n",
    "    C_F = c_config.correctionFactorStokesForce(Re_p0)\n",
    "    Re_p = (4 / 3) * max(1, beta) / A_g * (np.sqrt(1 + C_F * curly_R * curly_V / (4 * np.pi)) - 1) / C_F\n",
    "    C_T = c_config.correctionFactorTorque(Re_p)\n",
    "\n",
    "    curly_A_F = C_F * computeCurlyAStokesForce(curly_R, curly_V)\n",
    "    curly_A_T = C_T * computeCurlyATorque(beta, curly_R, curly_V)\n",
    "    v_g = (np.sqrt(1 + 8 * curly_A_F) - 1) / (4 * A_perp * curly_A_F)\n",
    "\n",
    "    # curlyAT -> (APara CPerp lambda (1 + 3 APara curlyAF vG -\n",
    "    #   APerp curlyAF vG) (5 CPerp lambda +\n",
    "    #   3 APara^2 curlyAF (1 + lambda^2) vG -\n",
    "    #   APara (1 + lambda^2) (-1 +\n",
    "    #      APerp curlyAF vG)))/(vG^2 (10 CPerp lambda -\n",
    "    #   APerp (1 + lambda^2) + 6 APara^2 curlyAF (1 + lambda^2) vG -\n",
    "    #   2 APerp^2 curlyAF (1 + lambda^2) vG -\n",
    "    #   2 APara (1 + lambda^2) (-1 + APerp curlyAF vG)))\n",
    "    return (\n",
    "        A_para*C_perp*beta*(1+3*A_para*curly_A_F*v_g-A_perp*curly_A_F*v_g)\n",
    "        *(5*C_perp*beta+3*A_para**2*curly_A_F*(1+beta**2)*v_g-A_para*(1+beta**2)*(-1+A_perp*curly_A_F*v_g))\n",
    "    ) / (v_g**2*(\n",
    "        10*C_perp*beta-A_perp*(1+beta**2)\n",
    "        +6*A_para**2*curly_A_F*(1+beta**2)*v_g\n",
    "        -2*A_perp**2*curly_A_F*(1+beta**2)*v_g\n",
    "        -2*A_para*(1+beta**2)*(-1+A_perp*curly_A_F*v_g)\n",
    "    )) - curly_A_T"
   ]
  },
  {
   "cell_type": "code",
   "execution_count": null,
   "metadata": {},
   "outputs": [],
   "source": [
    "x = np.logspace(-5, 5, num=1_000)\n",
    "f_x = np.array([hopfBifurcation(0.2, 500, y) for y in x])\n",
    "\n",
    "plt.plot(x, f_x)\n",
    "plt.axhline(0, ls=\":\", lw=1, color=\"black\")\n",
    "plt.xscale(\"log\")\n",
    "# plt.yscale(\"log\")\n",
    "# plt.yscale(\"symlog\")\n",
    "plt.ylim(-1,1)"
   ]
  },
  {
   "cell_type": "code",
   "execution_count": null,
   "metadata": {},
   "outputs": [],
   "source": [
    "def findRootCurlyV(beta: float, curly_R: float, guess_curly_V: float) -> float:\n",
    "    try:\n",
    "        curly_V = optimize.root_scalar(\n",
    "            f=lambda x: hopfBifurcation(beta, curly_R, x),\n",
    "            x0=guess_curly_V,\n",
    "            maxiter=1000,\n",
    "            xtol=1e-12,\n",
    "            method='bisect',\n",
    "            bracket=[guess_curly_V * 1e-2, guess_curly_V * 1e2]\n",
    "        ).root\n",
    "    except ValueError:\n",
    "        curly_V = np.nan\n",
    "    return curly_V"
   ]
  },
  {
   "cell_type": "code",
   "execution_count": null,
   "metadata": {},
   "outputs": [],
   "source": [
    "g = 9.81\n",
    "nu = 1.51147e-5\n",
    "curly_R = 1.2e3 / 1.204\n",
    "guess_curly_V = g * 1.44e-3 * 1e-9 / nu ** 2\n",
    "beta_arr = np.linspace(0.01, 0.95, num=100)\n",
    "curly_V_arr = np.array([findRootCurlyV(beta, curly_R, guess_curly_V) for beta in beta_arr])\n",
    "volume_arr = curly_V_arr * nu ** 2 / g"
   ]
  },
  {
   "cell_type": "code",
   "execution_count": null,
   "metadata": {},
   "outputs": [],
   "source": [
    "plt.figure(figsize=(5,4))\n",
    "plt.plot(beta_arr, volume_arr * 1e9 * 1e3, label=\"Analytical Bifurcation\")\n",
    "plt.xlabel(\"Aspect ratio $\\\\lambda$\")\n",
    "plt.ylabel(\"Particle volume (mm$^3\\\\times10^{-3}$)\")\n",
    "plt.legend()\n",
    "plt.show()"
   ]
  }
 ],
 "metadata": {
  "kernelspec": {
   "display_name": "spheriods",
   "language": "python",
   "name": "python3"
  },
  "language_info": {
   "codemirror_mode": {
    "name": "ipython",
    "version": 3
   },
   "file_extension": ".py",
   "mimetype": "text/x-python",
   "name": "python",
   "nbconvert_exporter": "python",
   "pygments_lexer": "ipython3",
   "version": "3.12.9"
  }
 },
 "nbformat": 4,
 "nbformat_minor": 2
}
